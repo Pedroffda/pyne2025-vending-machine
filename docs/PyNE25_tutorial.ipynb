{
  "cells": [
    {
      "cell_type": "markdown",
      "metadata": {
        "id": "cnOkVIgjYzeY"
      },
      "source": [
        "# **Instalação das bibliotecas**"
      ]
    },
    {
      "cell_type": "code",
      "execution_count": null,
      "metadata": {
        "colab": {
          "base_uri": "https://localhost:8080/"
        },
        "id": "2xiES6aOxKh1",
        "outputId": "61e5d582-2d25-468c-b42d-12ef990276cc"
      },
      "outputs": [],
      "source": [
        "! pip install web3"
      ]
    },
    {
      "cell_type": "code",
      "execution_count": null,
      "metadata": {
        "colab": {
          "base_uri": "https://localhost:8080/"
        },
        "id": "xL1pBVrghfKJ",
        "outputId": "c32c194a-32c3-450e-d4a5-802f8ea03266"
      },
      "outputs": [],
      "source": [
        "! pip install py-solc-x"
      ]
    },
    {
      "cell_type": "markdown",
      "metadata": {
        "id": "9b9Ch98BY990"
      },
      "source": [
        "# **Importação das bibliotecas e conexão com o Provedor**"
      ]
    },
    {
      "cell_type": "code",
      "execution_count": null,
      "metadata": {
        "id": "b_Dk16C5wsly"
      },
      "outputs": [],
      "source": [
        "from web3 import Web3"
      ]
    },
    {
      "cell_type": "markdown",
      "metadata": {
        "id": "mlY7qH_vZQ6V"
      },
      "source": [
        "Provedor Remoto (HTTP) disponibilizado pelo Alchemy: Sepolia testnet. Se retornar True, tudo ok. Caso contrário, verifique se estão corretos o tipo de conexão do provedor (IPC, HTTP, WebSocket) e a url."
      ]
    },
    {
      "cell_type": "code",
      "execution_count": null,
      "metadata": {
        "colab": {
          "base_uri": "https://localhost:8080/"
        },
        "id": "3ygZslizZoqX",
        "outputId": "4e62dadb-2661-4aa5-f5d3-0771e94938c7"
      },
      "outputs": [],
      "source": [
        "url = f\"https://eth-sepolia.g.alchemy.com/v2/***REMOVED***\"\n",
        "w3 = Web3(Web3.HTTPProvider(url))\n",
        "w3.is_connected()"
      ]
    },
    {
      "cell_type": "markdown",
      "metadata": {
        "id": "w_cItA7_adV2"
      },
      "source": [
        "# **Testando**"
      ]
    },
    {
      "cell_type": "markdown",
      "metadata": {
        "id": "76UlQ1jS8dPB"
      },
      "source": [
        "Teste a conexão com o provedor:"
      ]
    },
    {
      "cell_type": "code",
      "execution_count": null,
      "metadata": {
        "colab": {
          "base_uri": "https://localhost:8080/"
        },
        "id": "iBTvhFUwaqtt",
        "outputId": "967c246a-0f35-4b6f-c649-daae8c3fbc14"
      },
      "outputs": [],
      "source": [
        "w3.is_connected()"
      ]
    },
    {
      "cell_type": "markdown",
      "metadata": {
        "id": "51EdvIdJ9Q2M"
      },
      "source": []
    },
    {
      "cell_type": "markdown",
      "metadata": {
        "id": "0PLvdz1i8gfU"
      },
      "source": [
        "Extraia o último bloco aprovado na cadeia da Sepolia e verifique a corretude através do ***Etherscan***.\n",
        "\n",
        "---\n",
        "\n",
        "Observe que blocos são minerados muito rápido 😸"
      ]
    },
    {
      "cell_type": "code",
      "execution_count": null,
      "metadata": {
        "colab": {
          "base_uri": "https://localhost:8080/"
        },
        "id": "l6x_1HdVN6t1",
        "outputId": "1f9940cf-7686-49db-96eb-a6bef503a057"
      },
      "outputs": [],
      "source": [
        "ultimo_bloco_dict = w3.eth.get_block('latest')\n",
        "ultimo_bloco_dict['number']"
      ]
    },
    {
      "cell_type": "markdown",
      "metadata": {
        "id": "a4pxDlrD9Btc"
      },
      "source": [
        "Agora, vamos instanciar nossa account para facilitar nosso deploy. Obtenha suas chaves através do ***MetaMask***."
      ]
    },
    {
      "cell_type": "code",
      "execution_count": null,
      "metadata": {
        "colab": {
          "base_uri": "https://localhost:8080/"
        },
        "id": "Z4vpylpJc4vF",
        "outputId": "6d008dde-66eb-4750-e040-f3b84c3b5108"
      },
      "outputs": [],
      "source": [
        "from web3 import Account\n",
        "from google.colab import userdata\n",
        "public_address = '***REMOVED***'\n",
        "# Cria um objeto account a partir da chave privada. Isso é necessário para o deploy\n",
        "account = Account.from_key('***REMOVED***')\n",
        "\n",
        "# Verificando\n",
        "assert account.address == public_address, \"O endereço da conta gerada não coincide com o endereço público definido!\"\n",
        "print(\"A conta foi criada com sucesso e o endereço coincide!\")"
      ]
    },
    {
      "cell_type": "markdown",
      "metadata": {
        "id": "RQsEdYM29V_Y"
      },
      "source": [
        "Cheque seu saldo. Não se assuste com o resultado😆!"
      ]
    },
    {
      "cell_type": "code",
      "execution_count": null,
      "metadata": {
        "colab": {
          "base_uri": "https://localhost:8080/"
        },
        "id": "xhbZNeGKhaOM",
        "outputId": "7aef671f-cafd-4167-d656-de3a36f13130"
      },
      "outputs": [],
      "source": [
        "w3.eth.get_balance(account.address)"
      ]
    },
    {
      "cell_type": "markdown",
      "metadata": {
        "id": "DjQH8phyMdRG"
      },
      "source": [
        "Se você ainda estiver pobre, carregue sua conta com https://cloud.google.com/application/web3/faucet/ethereum/sepolia e depois rode novamente a linha acima."
      ]
    },
    {
      "cell_type": "markdown",
      "metadata": {
        "id": "dLTJakbVhvdV"
      },
      "source": [
        "# **Compilação do contrato**\n",
        "Para esta parte, é essencial que a biblioteca py-solc-x esteja instalada."
      ]
    },
    {
      "cell_type": "code",
      "execution_count": null,
      "metadata": {
        "colab": {
          "base_uri": "https://localhost:8080/"
        },
        "collapsed": true,
        "id": "6tNn7Esdh9SX",
        "outputId": "e78ff0d0-eb29-4d79-ce79-5bfc4e1a0ebf"
      },
      "outputs": [],
      "source": [
        "from solcx import install_solc, get_installable_solc_versions, set_solc_version, get_solc_version, compile_source, compile_files\n",
        "get_installable_solc_versions()"
      ]
    },
    {
      "cell_type": "markdown",
      "metadata": {
        "id": "jSKYLVgL-JsT"
      },
      "source": [
        "Instale o compilador:"
      ]
    },
    {
      "cell_type": "code",
      "execution_count": null,
      "metadata": {
        "colab": {
          "base_uri": "https://localhost:8080/"
        },
        "id": "rKqRDYNGiddg",
        "outputId": "34ea169d-3074-40f6-cac7-0ff237774e1e"
      },
      "outputs": [],
      "source": [
        "install_solc(\"0.8.20\") # Insira a versão específica desejada, ou \"latest\" para instalar a mais recente.\n",
        "set_solc_version(\"0.8.20\")\n",
        "get_solc_version()"
      ]
    },
    {
      "cell_type": "markdown",
      "metadata": {
        "id": "_hMV7vuU-Mqz"
      },
      "source": [
        "Compile o contrato:"
      ]
    },
    {
      "cell_type": "code",
      "execution_count": null,
      "metadata": {
        "id": "MXEb2rT4opI0"
      },
      "outputs": [],
      "source": [
        "codigo_fonte = '''\n",
        "  pragma solidity 0.8.20;\n",
        "\n",
        "  contract VendingMachine {\n",
        "\n",
        "      // Declare state variables of the contract\n",
        "      address public owner;\n",
        "      mapping (address => uint) public cupcakeBalances;\n",
        "\n",
        "      // When 'VendingMachine' contract is deployed:\n",
        "      // 1. set the deploying address as the owner of the contract\n",
        "      // 2. set the deployed smart contract's cupcake balance to 100\n",
        "      constructor() {\n",
        "          owner = msg.sender;\n",
        "          cupcakeBalances[address(this)] = 100;\n",
        "      }\n",
        "\n",
        "      // Allow the owner to increase the smart contract's cupcake balance\n",
        "      function refill(uint amount) public {\n",
        "          require(msg.sender == owner, \"Only the owner can refill.\");\n",
        "          cupcakeBalances[address(this)] += amount;\n",
        "      }\n",
        "\n",
        "      // Allow anyone to purchase cupcakes\n",
        "      function purchase(uint amount) public payable {\n",
        "          require(msg.value >= amount * 0.001 ether, \"You must pay at least 0.001 ETH per cupcake\");\n",
        "          require(cupcakeBalances[address(this)] >= amount, \"Not enough cupcakes in stock to complete this purchase\");\n",
        "          cupcakeBalances[address(this)] -= amount;\n",
        "          cupcakeBalances[msg.sender] += amount;\n",
        "      }\n",
        "  }\n",
        "'''\n",
        "result = compile_source(codigo_fonte, output_values=['abi', 'bin'],  solc_version=\"0.8.20\")\n",
        "contract_id, contract_data = result.popitem()\n",
        "\n",
        "abi = contract_data[\"abi\"]\n",
        "bytecode = contract_data[\"bin\"]"
      ]
    },
    {
      "cell_type": "markdown",
      "metadata": {
        "id": "p3p7WG3bo2c0"
      },
      "source": [
        "ou"
      ]
    },
    {
      "cell_type": "code",
      "execution_count": null,
      "metadata": {
        "id": "yOtgjEqyjlLM"
      },
      "outputs": [],
      "source": [
        "with open('/content/contrato-maquina.txt', 'r') as file:\n",
        "    codigo_fonte = file.read()\n",
        "compile_source(codigo_fonte, output_values=['abi', 'bin'],  solc_version=\"0.8.20\")"
      ]
    },
    {
      "cell_type": "markdown",
      "metadata": {
        "id": "QHxOgTWKo4lg"
      },
      "source": [
        "ou ainda"
      ]
    },
    {
      "cell_type": "code",
      "execution_count": null,
      "metadata": {
        "id": "Z75STYldo6ZI"
      },
      "outputs": [],
      "source": [
        "compile_files('/content/contrato-maquina.sol', output_values=['abi', 'bin'],  solc_version=\"0.8.20\")"
      ]
    },
    {
      "cell_type": "markdown",
      "metadata": {
        "id": "48VfJa8jMFW7"
      },
      "source": [
        "# **Deploy na rede**"
      ]
    },
    {
      "cell_type": "markdown",
      "metadata": {
        "id": "sU2RZrzk-Ru-"
      },
      "source": [
        "Instancie o contrato, utilizando a interface e o bytecode gerado pela compilação:"
      ]
    },
    {
      "cell_type": "code",
      "execution_count": null,
      "metadata": {
        "id": "rnhB5ay3J40_"
      },
      "outputs": [],
      "source": [
        "contrato = w3.eth.contract(abi=abi, bytecode=bytecode)"
      ]
    },
    {
      "cell_type": "markdown",
      "metadata": {
        "id": "HQ40QxeK-YJm"
      },
      "source": [
        "Construa a transação de deploy:"
      ]
    },
    {
      "cell_type": "code",
      "execution_count": null,
      "metadata": {
        "colab": {
          "base_uri": "https://localhost:8080/"
        },
        "id": "vZHrcHbLgW4G",
        "outputId": "f2361a3a-0813-420d-cd8f-20686b04c2d8"
      },
      "outputs": [],
      "source": [
        "unsent_deploy_tx = contrato.constructor().build_transaction({\n",
        "    'from': account.address,\n",
        "    'gas': 1000000,\n",
        "    'gasPrice': w3.eth.gas_price,\n",
        "    'nonce': 8\n",
        "})\n",
        "print(unsent_deploy_tx)"
      ]
    },
    {
      "cell_type": "markdown",
      "metadata": {
        "id": "d1jUCRNZ-chL"
      },
      "source": [
        "Assine a transação utilizando sua chave privada:"
      ]
    },
    {
      "cell_type": "code",
      "execution_count": null,
      "metadata": {
        "colab": {
          "base_uri": "https://localhost:8080/"
        },
        "id": "64TTJOlJh6QO",
        "outputId": "557dee33-5a85-4554-abd4-341564df76dd"
      },
      "outputs": [],
      "source": [
        "signed_deploy_tx = w3.eth.account.sign_transaction(unsent_deploy_tx, account.key)\n",
        "print(signed_deploy_tx)"
      ]
    },
    {
      "cell_type": "markdown",
      "metadata": {
        "id": "z_-vzkVq-02T"
      },
      "source": [
        "Envie a transação e confira o endereço do seu contrato. Busque esse endereço no ***Etherscan!***"
      ]
    },
    {
      "cell_type": "code",
      "execution_count": null,
      "metadata": {
        "colab": {
          "base_uri": "https://localhost:8080/"
        },
        "id": "JMIkeLuriHIG",
        "outputId": "1937a964-6e91-44db-d65d-32791b6318bc"
      },
      "outputs": [],
      "source": [
        "tx_hash = w3.eth.send_raw_transaction(signed_deploy_tx.raw_transaction)\n",
        "endereco_contrato = w3.eth.wait_for_transaction_receipt(tx_hash)['contractAddress']\n",
        "print(endereco_contrato)"
      ]
    },
    {
      "cell_type": "markdown",
      "metadata": {
        "id": "V-lovDMak8Ag"
      },
      "source": [
        "# **Interação com o contrato**"
      ]
    },
    {
      "cell_type": "code",
      "execution_count": null,
      "metadata": {
        "colab": {
          "base_uri": "https://localhost:8080/"
        },
        "id": "7bXrCaJ6k7Ew",
        "outputId": "ce7cc77f-8909-445c-d84f-f8f3f72043f4"
      },
      "outputs": [],
      "source": [
        "maquina = w3.eth.contract(address=endereco_contrato, abi=abi)\n",
        "maquina.all_functions()"
      ]
    },
    {
      "cell_type": "code",
      "execution_count": null,
      "metadata": {
        "id": "wtVr3ZJho7fc"
      },
      "outputs": [],
      "source": [
        "unsent_tx = maquina.functions.purchase(1).build_transaction({\n",
        "    'from': '***REMOVED***',\n",
        "    'nonce': w3.eth.get_transaction_count('***REMOVED***'),\n",
        "    'gas': 100000,\n",
        "    'gasPrice': w3.eth.gas_price,\n",
        "    'value': w3.to_wei(0.001, 'ether')\n",
        "    })\n",
        "signed_tx = w3.eth.account.sign_transaction(unsent_tx, '***REMOVED***')\n",
        "tx_hash = w3.eth.send_raw_transaction(signed_tx.raw_transaction)\n",
        "w3.eth.wait_for_transaction_receipt(tx_hash)"
      ]
    },
    {
      "cell_type": "code",
      "execution_count": null,
      "metadata": {
        "colab": {
          "base_uri": "https://localhost:8080/",
          "height": 35
        },
        "id": "IH2mdZ1dtUYr",
        "outputId": "f6d64964-a3cd-4b6e-9535-6a96757d0ae8"
      },
      "outputs": [],
      "source": [
        "maquina.functions.owner().call()"
      ]
    },
    {
      "cell_type": "code",
      "execution_count": null,
      "metadata": {
        "id": "v7SMwYyl4bD1"
      },
      "outputs": [],
      "source": [
        "maquina.functions.refill(10).build_transaction({\n",
        "    'from': account.address,\n",
        "    'nonce': w3.eth.get_transaction_count('***REMOVED***'),\n",
        "    'gas': 100000,\n",
        "    'gasPrice': w3.eth.gas_price,\n",
        "    })\n",
        "signed_tx = w3.eth.account.sign_transaction(unsent_tx, account.key)\n",
        "tx_hash = w3.eth.send_raw_transaction(signed_tx.raw_transaction)\n",
        "w3.eth.wait_for_transaction_receipt(tx_hash)"
      ]
    },
    {
      "cell_type": "markdown",
      "metadata": {
        "id": "WvP33a1GqK9D"
      },
      "source": []
    }
  ],
  "metadata": {
    "colab": {
      "provenance": []
    },
    "kernelspec": {
      "display_name": "Python 3",
      "name": "python3"
    },
    "language_info": {
      "name": "python",
      "version": "3.12.3"
    }
  },
  "nbformat": 4,
  "nbformat_minor": 0
}
